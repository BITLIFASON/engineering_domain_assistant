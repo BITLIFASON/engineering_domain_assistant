{
 "cells": [
  {
   "cell_type": "markdown",
   "id": "21f8c0de",
   "metadata": {},
   "source": [
    "# Configuration"
   ]
  },
  {
   "cell_type": "code",
   "execution_count": 1,
   "id": "a66a2d9f",
   "metadata": {
    "scrolled": false
   },
   "outputs": [],
   "source": [
    "import os\n",
    "import json\n",
    "import camelot\n",
    "\n",
    "from tqdm import tqdm\n",
    "import camelot\n",
    "import numpy as np\n",
    "\n",
    "from langchain.document_loaders import PDFMinerLoader\n",
    "from langchain.docstore.document import Document\n",
    "from langchain.text_splitter import RecursiveCharacterTextSplitter\n",
    "\n",
    "from langchain.vectorstores import Chroma\n",
    "from chromadb import Documents, EmbeddingFunction, Embeddings\n",
    "from langchain_community.embeddings import OpenAIEmbeddings\n",
    "\n",
    "from langchain_community.chat_models import ChatOpenAI\n",
    "from langchain.prompts import ChatPromptTemplate\n",
    "from langchain_core.output_parsers import StrOutputParser\n",
    "from langchain_core.runnables import RunnableParallel, RunnablePassthrough"
   ]
  },
  {
   "cell_type": "code",
   "execution_count": 2,
   "id": "63e8d196",
   "metadata": {},
   "outputs": [],
   "source": [
    "with open('../credentials.json', 'r') as f:\n",
    "    credentials = json.load(f)"
   ]
  },
  {
   "cell_type": "markdown",
   "id": "1bb6d64f",
   "metadata": {},
   "source": [
    "# Load and split documents"
   ]
  },
  {
   "cell_type": "code",
   "execution_count": 3,
   "id": "dbd8ddc0",
   "metadata": {},
   "outputs": [],
   "source": [
    "def load_document(file_path: str) -> Document:\n",
    "    loader = PDFMinerLoader(file_path)\n",
    "    return loader.load()[0]"
   ]
  },
  {
   "cell_type": "code",
   "execution_count": 4,
   "id": "1cc7437c",
   "metadata": {},
   "outputs": [],
   "source": [
    "def processing_content(content: str) -> str:\n",
    "    return content.replace(\"  \", \" \")\\\n",
    "                  .replace(\"\\xad\\n\\n\", \"\")\\\n",
    "                  .replace(\"\\xad\\n\", \"\")\\\n",
    "                  .replace(\" \\n\\n\", \" \")\\\n",
    "                  .replace(\" \\n\", \" \")\\\n",
    "                  .replace(\"\\x0c\", \"\\n\")"
   ]
  },
  {
   "cell_type": "code",
   "execution_count": 5,
   "id": "a7bcb0d9",
   "metadata": {},
   "outputs": [],
   "source": [
    "data_dir = '../docs'\n",
    "file_paths = os.listdir(data_dir)[:1]"
   ]
  },
  {
   "cell_type": "code",
   "execution_count": 6,
   "id": "fa29d5f4",
   "metadata": {},
   "outputs": [
    {
     "name": "stdout",
     "output_type": "stream",
     "text": [
      "CPU times: total: 7.56 s\n",
      "Wall time: 8.39 s\n"
     ]
    }
   ],
   "source": [
    "%%time\n",
    "source_documents = [load_document(os.path.join(data_dir, path)) for path in file_paths]"
   ]
  },
  {
   "cell_type": "code",
   "execution_count": 7,
   "id": "71d95e4d",
   "metadata": {},
   "outputs": [
    {
     "name": "stdout",
     "output_type": "stream",
     "text": [
      "CPU times: total: 0 ns\n",
      "Wall time: 4.01 ms\n"
     ]
    }
   ],
   "source": [
    "%%time\n",
    "for doc in source_documents:\n",
    "    doc.page_content = processing_content(doc.page_content)"
   ]
  },
  {
   "cell_type": "code",
   "execution_count": 8,
   "id": "db72d069",
   "metadata": {},
   "outputs": [],
   "source": [
    "text_splitter = RecursiveCharacterTextSplitter(\n",
    "    chunk_size=1000, chunk_overlap=100, add_start_index=True\n",
    ")\n",
    "documents = text_splitter.split_documents(source_documents)"
   ]
  },
  {
   "cell_type": "markdown",
   "id": "4c257cc9",
   "metadata": {},
   "source": [
    "# Load embeddings"
   ]
  },
  {
   "cell_type": "code",
   "execution_count": 9,
   "id": "bbc84bb6",
   "metadata": {},
   "outputs": [],
   "source": [
    "OPENAI_API_KEY=credentials['OPENAI_API_KEY']"
   ]
  },
  {
   "cell_type": "code",
   "execution_count": 10,
   "id": "b5300645",
   "metadata": {},
   "outputs": [],
   "source": [
    "embeddings=OpenAIEmbeddings(api_key=OPENAI_API_KEY)"
   ]
  },
  {
   "cell_type": "code",
   "execution_count": 11,
   "id": "725af901",
   "metadata": {},
   "outputs": [],
   "source": [
    "# class MyEmbeddingFunction(EmbeddingFunction):\n",
    "#     def embed_documents(self, input: Documents) -> Embeddings:\n",
    "# #         return np.random.randn(768).tolist()\n",
    "#         return [1]*768\n",
    "#     def embed_query(self, input: str) -> Embeddings:\n",
    "# #         return np.random.randn(768).tolist()\n",
    "#         return [1]*768\n",
    "# embeddings=MyEmbeddingFunction()"
   ]
  },
  {
   "cell_type": "code",
   "execution_count": 12,
   "id": "b36e9205",
   "metadata": {},
   "outputs": [
    {
     "name": "stderr",
     "output_type": "stream",
     "text": [
      "100%|██████████████████████████████████████████████████████████████████████████████████| 20/20 [00:07<00:00,  2.81it/s]\n"
     ]
    }
   ],
   "source": [
    "vectorstore = Chroma(collection_name='engineering_store',\n",
    "                     embedding_function=embeddings,\n",
    "                     persist_directory=\"../db\")\n",
    "\n",
    "collection = vectorstore.get()\n",
    "\n",
    "if len(collection['ids']) == 0:\n",
    "    \n",
    "    for doc in tqdm(documents[30:50]):\n",
    "        vectorstore.add_documents([doc])\n",
    "\n",
    "    vectorstore.persist()"
   ]
  },
  {
   "cell_type": "code",
   "execution_count": 20,
   "id": "619c0a21",
   "metadata": {},
   "outputs": [],
   "source": [
    "collection = vectorstore.get()"
   ]
  },
  {
   "cell_type": "code",
   "execution_count": 29,
   "id": "1b0d101a",
   "metadata": {},
   "outputs": [],
   "source": [
    "doc_dict = dict()\n",
    "for i, metadata in enumerate(collection['metadatas']):\n",
    "    doc_dict.setdefault(doc.metadata['source'][len(data_dir)+1:], list())\n",
    "    doc_dict[doc.metadata['source'][len(data_dir)+1:]].extend([collection['ids'][i]])"
   ]
  },
  {
   "cell_type": "code",
   "execution_count": 30,
   "id": "5fe0222c",
   "metadata": {},
   "outputs": [
    {
     "data": {
      "text/plain": [
       "{'Аппаратура малогабаритная электрическая. Автоматические выключатели для защиты от сверхтоков бытового и аналогичного назначения. Часть 1. Автоматические выключатели для переменного тока.pdf': ['91ff73cd-aa40-11ee-92c7-40ec99f39a7a',\n",
       "  '92841984-aa40-11ee-8794-40ec99f39a7a',\n",
       "  '92b12015-aa40-11ee-8aef-40ec99f39a7a',\n",
       "  '92e9bc0e-aa40-11ee-a201-40ec99f39a7a',\n",
       "  '931ada72-aa40-11ee-b5b2-40ec99f39a7a',\n",
       "  '93490e07-aa40-11ee-b611-40ec99f39a7a',\n",
       "  '9374e78e-aa40-11ee-a074-40ec99f39a7a',\n",
       "  '93c6293f-aa40-11ee-8c9c-40ec99f39a7a',\n",
       "  '93fc7f7b-aa40-11ee-a877-40ec99f39a7a',\n",
       "  '94295989-aa40-11ee-9cbc-40ec99f39a7a',\n",
       "  '94567f5d-aa40-11ee-a009-40ec99f39a7a',\n",
       "  '94837bdf-aa40-11ee-acdb-40ec99f39a7a',\n",
       "  '94b00ae4-aa40-11ee-9ad2-40ec99f39a7a',\n",
       "  '94d9c58f-aa40-11ee-b6ae-40ec99f39a7a',\n",
       "  '9506f3df-aa40-11ee-bd43-40ec99f39a7a',\n",
       "  '953fdf46-aa40-11ee-ba01-40ec99f39a7a',\n",
       "  '956c9c56-aa40-11ee-95ea-40ec99f39a7a',\n",
       "  '95ad44d1-aa40-11ee-a81e-40ec99f39a7a',\n",
       "  '95e6609a-aa40-11ee-85e3-40ec99f39a7a',\n",
       "  '9610a083-aa40-11ee-a29f-40ec99f39a7a']}"
      ]
     },
     "execution_count": 30,
     "metadata": {},
     "output_type": "execute_result"
    }
   ],
   "source": [
    "doc_dict"
   ]
  },
  {
   "cell_type": "code",
   "execution_count": 32,
   "id": "9993e14c",
   "metadata": {},
   "outputs": [],
   "source": [
    "retriever = vectorstore.as_retriever(search_type=\"similarity\", search_kwargs={\"k\": 3})"
   ]
  },
  {
   "cell_type": "markdown",
   "id": "ce5500e3",
   "metadata": {},
   "source": [
    "# Load model"
   ]
  },
  {
   "cell_type": "code",
   "execution_count": 16,
   "id": "4c28c55a",
   "metadata": {},
   "outputs": [],
   "source": [
    "llm = ChatOpenAI(model_name=\"gpt-3.5-turbo\", temperature=0, api_key=OPENAI_API_KEY)"
   ]
  },
  {
   "cell_type": "markdown",
   "id": "9c812597",
   "metadata": {},
   "source": [
    "# Relevant documents"
   ]
  },
  {
   "cell_type": "code",
   "execution_count": 34,
   "id": "72e87626",
   "metadata": {},
   "outputs": [],
   "source": [
    "relevant_documents = []\n",
    "retrieve_documents = retriever.get_relevant_documents(\"Какое номинальное напряжение электроустановки для трёхфазной системы при номинальном импульсном выдерживаемом напряжении 4 В?\")\n",
    "for doc in retrieve_documents:\n",
    "    doc_name = doc.metadata['source'][8:-4]\n",
    "    if doc_name not in relevant_documents:\n",
    "        relevant_documents.append(doc_name)"
   ]
  },
  {
   "cell_type": "code",
   "execution_count": 35,
   "id": "ad74f42f",
   "metadata": {},
   "outputs": [
    {
     "data": {
      "text/plain": [
       "['Аппаратура малогабаритная электрическая. Автоматические выключатели для защиты от сверхтоков бытового и аналогичного назначения. Часть 1. Автоматические выключатели для переменного тока']"
      ]
     },
     "execution_count": 35,
     "metadata": {},
     "output_type": "execute_result"
    }
   ],
   "source": [
    "relevant_documents"
   ]
  },
  {
   "cell_type": "markdown",
   "id": "0159b8e5",
   "metadata": {},
   "source": [
    "# QnA"
   ]
  },
  {
   "cell_type": "code",
   "execution_count": 21,
   "id": "8c13ec56",
   "metadata": {},
   "outputs": [],
   "source": [
    "template = \"Контекст: {context}\\n\\nИспользуя контекст, ответь на вопрос: {question}\"\n",
    "prompt = ChatPromptTemplate.from_template(template)"
   ]
  },
  {
   "cell_type": "code",
   "execution_count": 22,
   "id": "0331b94a",
   "metadata": {},
   "outputs": [],
   "source": [
    "output_parser = StrOutputParser()"
   ]
  },
  {
   "cell_type": "code",
   "execution_count": 23,
   "id": "70f4a5c5",
   "metadata": {},
   "outputs": [],
   "source": [
    "setup_and_retrieval = RunnableParallel(\n",
    "    {\"context\": retriever, \"question\": RunnablePassthrough()}\n",
    ")\n",
    "chain = setup_and_retrieval | prompt | llm | output_parser"
   ]
  },
  {
   "cell_type": "code",
   "execution_count": 199,
   "id": "11ec8795",
   "metadata": {},
   "outputs": [
    {
     "data": {
      "text/plain": [
       "'Информация о введении в действие стандарта публикуется в указателях национальных стандартов, издаваемых в соответствующих государствах, а также в сети Интернет на сайтах соответствующих национальных органов по стандартизации.'"
      ]
     },
     "execution_count": 199,
     "metadata": {},
     "output_type": "execute_result"
    }
   ],
   "source": [
    "chain.invoke(\"Где публикуется информация  о  введении  в  действие стандарта?\")"
   ]
  },
  {
   "cell_type": "code",
   "execution_count": 32,
   "id": "298f0630",
   "metadata": {},
   "outputs": [
    {
     "data": {
      "text/plain": [
       "'Номинальное напряжение электроустановки для трёхфазной системы при номинальном импульсном выдерживаемом напряжении 4 В составляет 230/400 В.'"
      ]
     },
     "execution_count": 32,
     "metadata": {},
     "output_type": "execute_result"
    }
   ],
   "source": [
    "chain.invoke(\"Какое номинальное напряжение электроустановки для трёхфазной системы при номинальном импульсном выдерживаемом напряжении 4 В?\")"
   ]
  },
  {
   "cell_type": "code",
   "execution_count": null,
   "id": "77e12a0e",
   "metadata": {},
   "outputs": [],
   "source": []
  }
 ],
 "metadata": {
  "kernelspec": {
   "display_name": "Python 3 (ipykernel)",
   "language": "python",
   "name": "python3"
  },
  "language_info": {
   "codemirror_mode": {
    "name": "ipython",
    "version": 3
   },
   "file_extension": ".py",
   "mimetype": "text/x-python",
   "name": "python",
   "nbconvert_exporter": "python",
   "pygments_lexer": "ipython3",
   "version": "3.10.8"
  }
 },
 "nbformat": 4,
 "nbformat_minor": 5
}
